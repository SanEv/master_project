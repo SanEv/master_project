{
 "cells": [
  {
   "cell_type": "code",
   "execution_count": 1,
   "metadata": {},
   "outputs": [],
   "source": [
    "import numpy as np\n",
    "import pandas as pd\n",
    "import matplotlib.pyplot as plt\n",
    "import os\n",
    "import glob"
   ]
  },
  {
   "cell_type": "code",
   "execution_count": 2,
   "metadata": {},
   "outputs": [
    {
     "name": "stdout",
     "output_type": "stream",
     "text": [
      "['C:\\\\Users\\\\visan\\\\Downloads\\\\days_test\\\\200205_K.NO2_Vis', 'C:\\\\Users\\\\visan\\\\Downloads\\\\days_test\\\\200322_K.NO2_Vis', 'C:\\\\Users\\\\visan\\\\Downloads\\\\days_test\\\\200323_K.NO2_Vis', 'C:\\\\Users\\\\visan\\\\Downloads\\\\days_test\\\\200331_K.NO2_Vis', 'C:\\\\Users\\\\visan\\\\Downloads\\\\days_test\\\\200416_K.NO2_Vis', 'C:\\\\Users\\\\visan\\\\Downloads\\\\days_test\\\\200426_K.NO2_Vis', 'C:\\\\Users\\\\visan\\\\Downloads\\\\days_test\\\\200508_K.NO2_Vis', 'C:\\\\Users\\\\visan\\\\Downloads\\\\days_test\\\\200520_K.NO2_Vis', 'C:\\\\Users\\\\visan\\\\Downloads\\\\days_test\\\\200716_K.NO2_Vis', 'C:\\\\Users\\\\visan\\\\Downloads\\\\days_test\\\\200803_K.NO2_Vis', 'C:\\\\Users\\\\visan\\\\Downloads\\\\days_test\\\\200922_K.NO2_Vis']\n",
      "['C:\\\\Users\\\\visan\\\\Downloads\\\\days_test\\\\200205KK.NO2_Vis_sync', 'C:\\\\Users\\\\visan\\\\Downloads\\\\days_test\\\\200322KK.NO2_Vis_sync', 'C:\\\\Users\\\\visan\\\\Downloads\\\\days_test\\\\200323KK.NO2_Vis_sync', 'C:\\\\Users\\\\visan\\\\Downloads\\\\days_test\\\\200331KK.NO2_Vis_sync', 'C:\\\\Users\\\\visan\\\\Downloads\\\\days_test\\\\200416KK.NO2_Vis_sync', 'C:\\\\Users\\\\visan\\\\Downloads\\\\days_test\\\\200426KK.NO2_Vis_sync', 'C:\\\\Users\\\\visan\\\\Downloads\\\\days_test\\\\200508KK.NO2_Vis_sync', 'C:\\\\Users\\\\visan\\\\Downloads\\\\days_test\\\\200520KK.NO2_Vis_sync', 'C:\\\\Users\\\\visan\\\\Downloads\\\\days_test\\\\200716KK.NO2_Vis_sync', 'C:\\\\Users\\\\visan\\\\Downloads\\\\days_test\\\\200803KK.NO2_Vis_sync', 'C:\\\\Users\\\\visan\\\\Downloads\\\\days_test\\\\200922KK.NO2_Vis_sync']\n"
     ]
    }
   ],
   "source": [
    "folderpath = os.path.dirname(r'C:\\Users\\visan\\Downloads\\days_test\\\\')\n",
    "zenith_file_name = '??????_K.NO2_vis'\n",
    "horizon_file_name = '??????KK.NO2_vis_sync'\n",
    "zenith_filepaths = glob.glob(os.path.join(folderpath,zenith_file_name))\n",
    "horizon_filepaths = glob.glob(os.path.join(folderpath,horizon_file_name))\n",
    "\n",
    "print(zenith_filepaths)\n",
    "print(horizon_filepaths)\n"
   ]
  },
  {
   "cell_type": "code",
   "execution_count": 3,
   "metadata": {},
   "outputs": [
    {
     "data": {
      "text/plain": [
       "'C:\\\\Users\\\\visan\\\\Downloads\\\\days_test\\\\200922KK.NO2_Vis_sync'"
      ]
     },
     "execution_count": 3,
     "metadata": {},
     "output_type": "execute_result"
    }
   ],
   "source": [
    "horizon_filepaths[-1]"
   ]
  },
  {
   "cell_type": "code",
   "execution_count": 4,
   "metadata": {},
   "outputs": [],
   "source": [
    "horizon_data = pd.read_csv(horizon_filepaths[-1],usecols=[1,6,13,15,19,33], sep ='\\s+',  header = 63)"
   ]
  },
  {
   "cell_type": "code",
   "execution_count": 5,
   "metadata": {},
   "outputs": [],
   "source": [
    "TIME = horizon_data['time'];\n",
    "NO2 = horizon_data['a[NO2]'];\n",
    "VAA = horizon_data['viewing-azimuth-angle']\n",
    "O4 = horizon_data['a[O4]']\n",
    "H2O = horizon_data['a[H2O]']"
   ]
  },
  {
   "cell_type": "markdown",
   "metadata": {},
   "source": [
    "### Calculating RMS and Standard Deviation"
   ]
  },
  {
   "cell_type": "code",
   "execution_count": 6,
   "metadata": {},
   "outputs": [],
   "source": [
    "import math\n"
   ]
  },
  {
   "cell_type": "code",
   "execution_count": 7,
   "metadata": {},
   "outputs": [
    {
     "name": "stdout",
     "output_type": "stream",
     "text": [
      "std of NO2 :  6.336749644917595e+16\n"
     ]
    }
   ],
   "source": [
    "NOx = np.array([NO2])  \n",
    "#print(\"Root Mean Square Error NO2:\",np.sqrt(np.mean(NOx**2)))\n",
    "print(\"std of NO2 : \", np.std(NOx))\n",
    "\n"
   ]
  },
  {
   "cell_type": "code",
   "execution_count": 8,
   "metadata": {},
   "outputs": [
    {
     "name": "stdout",
     "output_type": "stream",
     "text": [
      "std of O4 :  1437.205511765566\n"
     ]
    }
   ],
   "source": [
    "Oxy = np.array([O4])  \n",
    "#print(\"Root Mean Square Error NO2:\",np.sqrt(np.mean(Oxy**2)))\n",
    "print(\"std of O4 : \", np.std(Oxy))\n"
   ]
  },
  {
   "cell_type": "code",
   "execution_count": 9,
   "metadata": {},
   "outputs": [
    {
     "name": "stdout",
     "output_type": "stream",
     "text": [
      "std of H2O :  4.316383049948883e+22\n"
     ]
    }
   ],
   "source": [
    "hydro = np.array([H2O])  \n",
    "#print(\"Root Mean Square Error NO2:\",np.sqrt(np.mean(hydro**2)))\n",
    "print(\"std of H2O : \", np.std(hydro))"
   ]
  },
  {
   "cell_type": "code",
   "execution_count": 10,
   "metadata": {},
   "outputs": [],
   "source": [
    "VAA = horizon_data['viewing-azimuth-angle']"
   ]
  },
  {
   "cell_type": "code",
   "execution_count": 19,
   "metadata": {},
   "outputs": [],
   "source": [
    "O4 =  horizon_data['a[O4]']\n",
    "o4 = O4*1e40"
   ]
  },
  {
   "cell_type": "code",
   "execution_count": 21,
   "metadata": {},
   "outputs": [],
   "source": [
    "O4_corr = o4.copy();\n",
    "H2O_corr = horizon_data['a[H2O]'].copy();\n",
    "#NO2_corr = horizon_data['a[NO2]'].copy();\n",
    "\n",
    "# the xx_scan variables contain all values fro one azimuthal scan (24 values)\n",
    "O4_scan = np.zeros(24);\n",
    "O4_corr_scan = np.zeros(24);\n",
    "\n",
    "# the xx_RMS variables contain the RMS for each scan; size = number of measurements // 24\n",
    "O4_RMS = np.zeros(horizon_data.shape[0]//24);\n",
    "O4_corr_RMS = np.zeros(horizon_data.shape[0]//24);\n",
    "time_RMS = np.zeros(horizon_data.shape[0]//24);\n",
    "\n",
    "# scan is the counter for the scans, pp the counter for the position within one scan\n",
    "scan = 0;\n",
    "pp = 0;\n",
    "\n",
    "for i in range (0,horizon_data.shape[0]):\n",
    "    if(VAA[i] == 130):\n",
    "        norm_value=horizon_data['a[H2O]'][i]; \n",
    "        pp = 0;\n",
    "    \n",
    "    H2O_corr[i]=horizon_data['a[H2O]'][i] / norm_value;  \n",
    "    #NO2_corr[i]=horizon_data['a[NO2]'][i] / H2O_corr[i]; \n",
    "    O4_corr[i]=o4[i]   / H2O_corr[i]; \n",
    "\n",
    "    # add data point to current scan\n",
    "    O4_scan[pp] = o4[i];\n",
    "    O4_corr_scan[pp] = O4_corr[i];\n",
    "    pp = pp + 1;\n",
    "    \n",
    "    # if end of scan: compute RMS of scan, move on to next scan\n",
    "    if(VAA[i] == 360):\n",
    "        O4_RMS[scan] = np.std(O4_scan, dtype=np.float64);\n",
    "        O4_corr_RMS[scan] = np.std(O4_corr_scan, dtype=np.float64);\n",
    "        time_RMS[scan] = horizon_data['time'][i];\n",
    "        scan = scan + 1; \n",
    "    "
   ]
  },
  {
   "cell_type": "code",
   "execution_count": 23,
   "metadata": {},
   "outputs": [
    {
     "data": {
      "image/png": "[encoded data removed]",
      "text/plain": [
       "<Figure size 432x288 with 1 Axes>"
      ]
     },
     "metadata": {
      "needs_background": "light"
     },
     "output_type": "display_data"
    }
   ],
   "source": [
    "plt.scatter(time_RMS, O4_RMS, label='original')\n",
    "plt.scatter(time_RMS, O4_corr_RMS, label='corrected')\n",
    "plt.suptitle('RMS of O$_4$ azimuthal scans over Bremen')\n",
    "plt.title(('Date: 22.09.2020'))\n",
    "plt.xlabel('time(UTC)') \n",
    "plt.ylabel('O$_4$ RMS (molec$^2$ / cm$^5$)')\n",
    "plt.legend()\n",
    "plt.ylim(bottom=0)\n",
    "plt.show()"
   ]
  },
  {
   "cell_type": "code",
   "execution_count": 17,
   "metadata": {},
   "outputs": [],
   "source": [
    "#O4_corr = horizon_data['a[O4]'].copy();\n",
    "H2O_corr = horizon_data['a[H2O]'].copy();\n",
    "NO2_corr = horizon_data['a[NO2]'].copy();\n",
    "\n",
    "# the xx_scan variables contain all values fro one azimuthal scan (24 values)\n",
    "NO2_scan = np.zeros(24);\n",
    "NO2_corr_scan = np.zeros(24);\n",
    "\n",
    "# the xx_RMS variables contain the RMS for each scan; size = number of measurements // 24\n",
    "NO2_RMS = np.zeros(horizon_data.shape[0]//24);\n",
    "NO2_corr_RMS = np.zeros(horizon_data.shape[0]//24);\n",
    "time_RMS = np.zeros(horizon_data.shape[0]//24);\n",
    "\n",
    "# scan is the counter for the scans, pp the counter for the position within one scan\n",
    "scan = 0;\n",
    "pp = 0;\n",
    "\n",
    "for i in range (0,horizon_data.shape[0]):\n",
    "    if(VAA[i] == 130):\n",
    "        norm_value=horizon_data['a[H2O]'][i]; \n",
    "        pp = 0;\n",
    "    \n",
    "    H2O_corr[i]=horizon_data['a[H2O]'][i] / norm_value;  \n",
    "    NO2_corr[i]=horizon_data['a[NO2]'][i] / H2O_corr[i]; \n",
    "    #O4_corr[i]=horizon_data['a[O4]'][i]   / H2O_corr[i]; \n",
    "\n",
    "    # add data point to current scan\n",
    "    NO2_scan[pp] = horizon_data['a[NO2]'][i];\n",
    "    NO2_corr_scan[pp] = NO2_corr[i];\n",
    "    pp = pp + 1;\n",
    "    \n",
    "    # if end of scan: compute RMS of scan, move on to next scan\n",
    "    if(VAA[i] == 360):\n",
    "        NO2_RMS[scan] = np.std(NO2_scan, dtype=np.float64);\n",
    "        NO2_corr_RMS[scan] = np.std(NO2_corr_scan, dtype=np.float64);\n",
    "        time_RMS[scan] = horizon_data['time'][i];\n",
    "        scan = scan + 1; "
   ]
  },
  {
   "cell_type": "code",
   "execution_count": 18,
   "metadata": {},
   "outputs": [
    {
     "data": {
      "image/png": "[encoded data removed]",
      "text/plain": [
       "<Figure size 432x288 with 1 Axes>"
      ]
     },
     "metadata": {
      "needs_background": "light"
     },
     "output_type": "display_data"
    }
   ],
   "source": [
    "plt.scatter(time_RMS, NO2_RMS, label='original')\n",
    "plt.scatter(time_RMS, NO2_corr_RMS, label='corrected')\n",
    "plt.suptitle('RMS of NO$_2$ azimuthal scans over Bremen')\n",
    "plt.title(('Date: 22.09.2020'))\n",
    "plt.xlabel('time(UTC)') \n",
    "plt.ylabel('NO$_2$ RMS ( molecules/cm$^2$)')\n",
    "plt.legend()\n",
    "plt.ylim(bottom=0)\n",
    "plt.show()"
   ]
  },
  {
   "cell_type": "markdown",
   "metadata": {},
   "source": [
    "### time series of NO2 with normalized O4"
   ]
  },
  {
   "cell_type": "code",
   "execution_count": 48,
   "metadata": {},
   "outputs": [],
   "source": [
    "O4_corr = horizon_data['a[O4]'].copy();\n",
    "#H2O_corr = horizon_data['a[H2O]'].copy();\n",
    "NO2_corr = horizon_data['a[NO2]'].copy();\n",
    "\n",
    "# the xx_scan variables contain all values fro one azimuthal scan (24 values)\n",
    "NO2_scan = np.zeros(24);\n",
    "NO2_corr_scan = np.zeros(24);\n",
    "\n",
    "# the xx_RMS variables contain the RMS for each scan; size = number of measurements // 24\n",
    "NO2_RMS = np.zeros(horizon_data.shape[0]//24);\n",
    "NO2_corr_RMS = np.zeros(horizon_data.shape[0]//24);\n",
    "time_RMS = np.zeros(horizon_data.shape[0]//24);\n",
    "\n",
    "# scan is the counter for the scans, pp the counter for the position within one scan\n",
    "scan = 0;\n",
    "pp = 0;\n",
    "\n",
    "for i in range (0,horizon_data.shape[0]):\n",
    "    if(VAA[i] == 130):\n",
    "        norm_value=horizon_data['a[O4]'][i]; \n",
    "        pp = 0;\n",
    "    \n",
    "    #H2O_corr[i]=horizon_data['a[H2O]'][i] / norm_value;  \n",
    "    NO2_corr[i]=horizon_data['a[NO2]'][i] / O4_corr[i]; \n",
    "    #O4_corr[i]=horizon_data['a[O4]'][i]   / O4_corr[i]; \n",
    "\n",
    "    # add data point to current scan\n",
    "    NO2_scan[pp] = horizon_data['a[NO2]'][i];\n",
    "    NO2_corr_scan[pp] = NO2_corr[i];\n",
    "    pp = pp + 1;\n",
    "    \n",
    "    # if end of scan: compute RMS of scan, move on to next scan\n",
    "    if(VAA[i] == 360):\n",
    "        NO2_RMS[scan] = np.std(NO2_scan, dtype=np.float64);\n",
    "        NO2_corr_RMS[scan] = np.std(NO2_corr_scan, dtype=np.float64);\n",
    "        time_RMS[scan] = horizon_data['time'][i];\n",
    "        scan = scan + 1; "
   ]
  },
  {
   "cell_type": "code",
   "execution_count": 49,
   "metadata": {},
   "outputs": [
    {
     "data": {
      "image/png": "[encoded data removed]",
      "text/plain": [
       "<Figure size 432x288 with 1 Axes>"
      ]
     },
     "metadata": {
      "needs_background": "light"
     },
     "output_type": "display_data"
    }
   ],
   "source": [
    "plt.scatter(time_RMS, NO2_RMS, label='original')\n",
    "plt.scatter(time_RMS, NO2_corr_RMS, label='corrected')\n",
    "plt.suptitle('RMS of NO$_2$ azimuthal scans over Bremen')\n",
    "plt.title(('Date: 22.09.2020'))\n",
    "plt.xlabel('time(UTC)') \n",
    "plt.ylabel('NO$_2$ RMS ( molecules/cm$^2$)')\n",
    "plt.legend()\n",
    "plt.ylim(bottom=0)\n",
    "plt.show()"
   ]
  },
  {
   "cell_type": "code",
   "execution_count": null,
   "metadata": {},
   "outputs": [],
   "source": []
  }
 ],
 "metadata": {
  "kernelspec": {
   "display_name": "Python 3",
   "language": "python",
   "name": "python3"
  },
  "language_info": {
   "codemirror_mode": {
    "name": "ipython",
    "version": 3
   },
   "file_extension": ".py",
   "mimetype": "text/x-python",
   "name": "python",
   "nbconvert_exporter": "python",
   "pygments_lexer": "ipython3",
   "version": "3.7.1"
  }
 },
 "nbformat": 4,
 "nbformat_minor": 2
}
